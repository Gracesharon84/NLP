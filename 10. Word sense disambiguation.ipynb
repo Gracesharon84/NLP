{
 "cells": [
  {
   "cell_type": "markdown",
   "metadata": {},
   "source": [
    "# 10. WORD SENSE DISAMBIGUATION(WSD)"
   ]
  },
  {
   "cell_type": "markdown",
   "metadata": {},
   "source": [
    "10.1 Simple WSD using Lesk Algorithm"
   ]
  },
  {
   "cell_type": "code",
   "execution_count": 1,
   "metadata": {},
   "outputs": [],
   "source": [
    "from nltk.wsd import lesk\n",
    "from nltk.tokenize import word_tokenize"
   ]
  },
  {
   "cell_type": "code",
   "execution_count": 8,
   "metadata": {},
   "outputs": [
    {
     "name": "stdout",
     "output_type": "stream",
     "text": [
      "Sense: Synset('savings_bank.n.02')\n",
      "Definition: a container (usually with a slot in the top) for keeping money at home\n"
     ]
    }
   ],
   "source": [
    "sentence=\"I went to the bank to deposit money.\"\n",
    "tokens=word_tokenize(sentence)\n",
    "sense=lesk(tokens,'bank')\n",
    "print(\"Sense:\",sense)\n",
    "print(\"Definition:\",sense.definition())"
   ]
  },
  {
   "cell_type": "markdown",
   "metadata": {},
   "source": [
    "10.2 Advanced WSD with Multiple Words"
   ]
  },
  {
   "cell_type": "code",
   "execution_count": 9,
   "metadata": {},
   "outputs": [
    {
     "name": "stdout",
     "output_type": "stream",
     "text": [
      "Sentence: The crane is flying.\n",
      "Sense: Synset('crane.n.04')\n",
      "Definition: lifts and moves heavy objects; lifting tackle is suspended from a pivoted boom that rotates around a vertical axis\n",
      "Sentence: He used a crane to lift the load.\n",
      "Sense: Synset('grus.n.01')\n",
      "Definition: a small constellation in the southern hemisphere near Phoenix\n"
     ]
    }
   ],
   "source": [
    "sentences=[\"The crane is flying.\",\"He used a crane to lift the load.\"]\n",
    "for sent in sentences:\n",
    "    tokens=word_tokenize(sent)\n",
    "    sense=lesk(tokens,'crane')\n",
    "    print(\"Sentence:\",sent)\n",
    "    print(\"Sense:\",sense)\n",
    "    print(\"Definition:\", sense.definition())"
   ]
  },
  {
   "cell_type": "code",
   "execution_count": null,
   "metadata": {},
   "outputs": [],
   "source": []
  }
 ],
 "metadata": {
  "kernelspec": {
   "display_name": "Python 3",
   "language": "python",
   "name": "python3"
  },
  "language_info": {
   "codemirror_mode": {
    "name": "ipython",
    "version": 3
   },
   "file_extension": ".py",
   "mimetype": "text/x-python",
   "name": "python",
   "nbconvert_exporter": "python",
   "pygments_lexer": "ipython3",
   "version": "3.7.1"
  }
 },
 "nbformat": 4,
 "nbformat_minor": 2
}
