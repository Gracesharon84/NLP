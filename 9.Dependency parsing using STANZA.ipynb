{
 "cells": [
  {
   "cell_type": "markdown",
   "metadata": {},
   "source": [
    "# 9. DEPENDENCY PARSING USING STANZA"
   ]
  },
  {
   "cell_type": "markdown",
   "metadata": {},
   "source": [
    "9.1 Simple Dependency Parsing Program"
   ]
  },
  {
   "cell_type": "code",
   "execution_count": 9,
   "metadata": {},
   "outputs": [
    {
     "name": "stdout",
     "output_type": "stream",
     "text": [
      "Collecting stanza\n",
      "  Downloading https://files.pythonhosted.org/packages/88/4f/064015f46172c860b02148db65acd67e4925900b426f66cd0f5729d1c0d1/stanza-1.6.1-py3-none-any.whl (881kB)\n",
      "Requirement already satisfied: protobuf>=3.15.0 in c:\\programdata\\anaconda3\\lib\\site-packages (from stanza) (3.19.6)\n",
      "Requirement already satisfied: requests in c:\\programdata\\anaconda3\\lib\\site-packages (from stanza) (2.21.0)\n",
      "Collecting emoji (from stanza)\n",
      "  Downloading https://files.pythonhosted.org/packages/91/db/a0335710caaa6d0aebdaa65ad4df789c15d89b7babd9a30277838a7d9aac/emoji-2.14.1-py3-none-any.whl (590kB)\n",
      "Collecting torch>=1.3.0 (from stanza)\n",
      "  Downloading https://files.pythonhosted.org/packages/b1/85/62b8da9d984ae95f6fdda707df4af6552a5cea46fde2b944223daf236524/torch-1.13.1-cp37-cp37m-win_amd64.whl (162.6MB)\n",
      "Requirement already satisfied: numpy in c:\\programdata\\anaconda3\\lib\\site-packages (from stanza) (1.15.4)\n",
      "Requirement already satisfied: tqdm in c:\\programdata\\anaconda3\\lib\\site-packages (from stanza) (4.28.1)\n",
      "Requirement already satisfied: urllib3<1.25,>=1.21.1 in c:\\programdata\\anaconda3\\lib\\site-packages (from requests->stanza) (1.24.1)\n",
      "Requirement already satisfied: chardet<3.1.0,>=3.0.2 in c:\\programdata\\anaconda3\\lib\\site-packages (from requests->stanza) (3.0.4)\n",
      "Requirement already satisfied: certifi>=2017.4.17 in c:\\programdata\\anaconda3\\lib\\site-packages (from requests->stanza) (2018.11.29)\n",
      "Requirement already satisfied: idna<2.9,>=2.5 in c:\\programdata\\anaconda3\\lib\\site-packages (from requests->stanza) (2.8)\n",
      "Requirement already satisfied: typing_extensions>=4.7.0; python_version < \"3.9\" in c:\\programdata\\anaconda3\\lib\\site-packages (from emoji->stanza) (4.7.1)\n",
      "Installing collected packages: emoji, torch, stanza\n",
      "Successfully installed emoji-2.14.1 stanza-1.6.1 torch-1.13.1\n"
     ]
    }
   ],
   "source": [
    "!pip install stanza\n",
    "import stanza"
   ]
  },
  {
   "cell_type": "code",
   "execution_count": 21,
   "metadata": {},
   "outputs": [
    {
     "name": "stderr",
     "output_type": "stream",
     "text": [
      "2025-07-30 08:56:57 INFO: Checking for updates to resources.json in case models have been updated.  Note: this behavior can be turned off with download_method=None or download_method=DownloadMethod.REUSE_RESOURCES\n"
     ]
    },
    {
     "data": {
      "application/vnd.jupyter.widget-view+json": {
       "model_id": "86849cb4b65a4fcab5bc418ae556db3c",
       "version_major": 2,
       "version_minor": 0
      },
      "text/plain": [
       "HBox(children=(IntProgress(value=0, description='Downloading https://raw.githubusercontent.com/stanfordnlp/sta…"
      ]
     },
     "metadata": {},
     "output_type": "display_data"
    },
    {
     "name": "stdout",
     "output_type": "stream",
     "text": [
      "\n"
     ]
    },
    {
     "name": "stderr",
     "output_type": "stream",
     "text": [
      "2025-07-30 08:56:59 INFO: Loading these models for language: en (English):\n",
      "======================================\n",
      "| Processor    | Package             |\n",
      "--------------------------------------\n",
      "| tokenize     | combined            |\n",
      "| pos          | combined_charlm     |\n",
      "| lemma        | combined_nocharlm   |\n",
      "| constituency | ptb3-revised_charlm |\n",
      "| depparse     | combined_charlm     |\n",
      "| sentiment    | sstplus             |\n",
      "| ner          | ontonotes_charlm    |\n",
      "======================================\n",
      "\n",
      "2025-07-30 08:56:59 INFO: Using device: cpu\n",
      "2025-07-30 08:56:59 INFO: Loading: tokenize\n",
      "2025-07-30 08:56:59 INFO: Loading: pos\n",
      "2025-07-30 08:56:59 INFO: Loading: lemma\n",
      "2025-07-30 08:56:59 INFO: Loading: constituency\n",
      "2025-07-30 08:56:59 INFO: Loading: depparse\n",
      "2025-07-30 08:56:59 INFO: Loading: sentiment\n",
      "2025-07-30 08:57:00 INFO: Loading: ner\n",
      "2025-07-30 08:57:00 INFO: Done loading processors!\n"
     ]
    }
   ],
   "source": [
    "nlp=stanza.Pipeline('en')"
   ]
  },
  {
   "cell_type": "code",
   "execution_count": 17,
   "metadata": {},
   "outputs": [],
   "source": [
    "sentence=\"The quick brown fox jumps over the lazy dog.\""
   ]
  },
  {
   "cell_type": "code",
   "execution_count": 18,
   "metadata": {},
   "outputs": [
    {
     "name": "stdout",
     "output_type": "stream",
     "text": [
      "Word\tHead\tRelation\n"
     ]
    }
   ],
   "source": [
    "doc=nlp(sentence)\n",
    "print(\"Word\\tHead\\tRelation\")"
   ]
  },
  {
   "cell_type": "code",
   "execution_count": 19,
   "metadata": {},
   "outputs": [
    {
     "name": "stdout",
     "output_type": "stream",
     "text": [
      "The\tfox\tdet\n",
      "quick\tfox\tamod\n",
      "brown\tfox\tamod\n",
      "fox\tjumps\tnsubj\n",
      "jumps\tROOT\troot\n",
      "over\tdog\tcase\n",
      "the\tdog\tdet\n",
      "lazy\tdog\tamod\n",
      "dog\tjumps\tobl\n",
      ".\tjumps\tpunct\n"
     ]
    }
   ],
   "source": [
    "for sent in doc.sentences:\n",
    "    for word in sent.words:\n",
    "        head=sent.words[word.head-1].text if word.head>0 else \"ROOT\"\n",
    "        print(f\"{word.text}\\t{head}\\t{word.deprel}\")"
   ]
  },
  {
   "cell_type": "markdown",
   "metadata": {},
   "source": [
    "9.2 Advanced Dependency Tree Visualization using networkx+matplotlib"
   ]
  },
  {
   "cell_type": "code",
   "execution_count": 27,
   "metadata": {},
   "outputs": [],
   "source": [
    "import stanza\n",
    "import networkx as nx\n",
    "import matplotlib.pyplot as plt\n"
   ]
  },
  {
   "cell_type": "code",
   "execution_count": 28,
   "metadata": {},
   "outputs": [
    {
     "name": "stderr",
     "output_type": "stream",
     "text": [
      "2025-07-30 09:15:03 INFO: Checking for updates to resources.json in case models have been updated.  Note: this behavior can be turned off with download_method=None or download_method=DownloadMethod.REUSE_RESOURCES\n"
     ]
    },
    {
     "data": {
      "application/vnd.jupyter.widget-view+json": {
       "model_id": "2b9b6eb661154d8bbb320bfe73b0e359",
       "version_major": 2,
       "version_minor": 0
      },
      "text/plain": [
       "HBox(children=(IntProgress(value=0, description='Downloading https://raw.githubusercontent.com/stanfordnlp/sta…"
      ]
     },
     "metadata": {},
     "output_type": "display_data"
    },
    {
     "name": "stdout",
     "output_type": "stream",
     "text": [
      "\n"
     ]
    },
    {
     "name": "stderr",
     "output_type": "stream",
     "text": [
      "2025-07-30 09:15:04 INFO: Loading these models for language: en (English):\n",
      "======================================\n",
      "| Processor    | Package             |\n",
      "--------------------------------------\n",
      "| tokenize     | combined            |\n",
      "| pos          | combined_charlm     |\n",
      "| lemma        | combined_nocharlm   |\n",
      "| constituency | ptb3-revised_charlm |\n",
      "| depparse     | combined_charlm     |\n",
      "| sentiment    | sstplus             |\n",
      "| ner          | ontonotes_charlm    |\n",
      "======================================\n",
      "\n",
      "2025-07-30 09:15:04 INFO: Using device: cpu\n",
      "2025-07-30 09:15:04 INFO: Loading: tokenize\n",
      "2025-07-30 09:15:04 INFO: Loading: pos\n",
      "2025-07-30 09:15:04 INFO: Loading: lemma\n",
      "2025-07-30 09:15:04 INFO: Loading: constituency\n",
      "2025-07-30 09:15:05 INFO: Loading: depparse\n",
      "2025-07-30 09:15:05 INFO: Loading: sentiment\n",
      "2025-07-30 09:15:05 INFO: Loading: ner\n",
      "2025-07-30 09:15:05 INFO: Done loading processors!\n"
     ]
    }
   ],
   "source": [
    "nlp=stanza.Pipeline('en')\n",
    "sentence=\"The quick brown fox jumps over the lazy dog.\"\n",
    "\n",
    "doc=nlp(sentence)"
   ]
  },
  {
   "cell_type": "code",
   "execution_count": 168,
   "metadata": {},
   "outputs": [],
   "source": [
    "G=nx.DiGraph()\n",
    "for sent in doc.sentences:\n",
    "    for word in sent.words:\n",
    "        head_text=\"ROOT\" if word.head==0 else sent.words[word.head-1].text\n",
    "        G.add_edge(head_text,word.text,label=word.deprel)"
   ]
  },
  {
   "cell_type": "code",
   "execution_count": 207,
   "metadata": {},
   "outputs": [
    {
     "data": {
      "image/png": "[encoded data removed]",
      "text/plain": [
       "<Figure size 432x288 with 1 Axes>"
      ]
     },
     "metadata": {},
     "output_type": "display_data"
    }
   ],
   "source": [
    "pos = nx.spring_layout(G)\n",
    "labels = nx.get_edge_attributes(G, 'label')\n",
    "nx.draw(G, pos, with_labels=True, node_size=2000, node_color='lightblue',\n",
    "font_size=10)\n",
    "nx.draw_networkx_edge_labels(G, pos, edge_labels=labels, font_color='red')\n",
    "plt.title(\"Dependency Parse Tree\")\n",
    "plt.show()"
   ]
  },
  {
   "cell_type": "code",
   "execution_count": null,
   "metadata": {},
   "outputs": [],
   "source": []
  }
 ],
 "metadata": {
  "kernelspec": {
   "display_name": "Python 3",
   "language": "python",
   "name": "python3"
  },
  "language_info": {
   "codemirror_mode": {
    "name": "ipython",
    "version": 3
   },
   "file_extension": ".py",
   "mimetype": "text/x-python",
   "name": "python",
   "nbconvert_exporter": "python",
   "pygments_lexer": "ipython3",
   "version": "3.7.1"
  }
 },
 "nbformat": 4,
 "nbformat_minor": 2
}
